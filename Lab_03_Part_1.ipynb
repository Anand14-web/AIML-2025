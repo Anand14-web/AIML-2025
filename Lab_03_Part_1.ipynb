{
  "nbformat": 4,
  "nbformat_minor": 0,
  "metadata": {
    "colab": {
      "provenance": [],
      "authorship_tag": "ABX9TyM1e5AZYRUddZ9NMH4J+CHg",
      "include_colab_link": true
    },
    "kernelspec": {
      "name": "python3",
      "display_name": "Python 3"
    },
    "language_info": {
      "name": "python"
    }
  },
  "cells": [
    {
      "cell_type": "markdown",
      "metadata": {
        "id": "view-in-github",
        "colab_type": "text"
      },
      "source": [
        "<a href=\"https://colab.research.google.com/github/Anand14-web/AIML-2025/blob/main/Lab_03_Part_1.ipynb\" target=\"_parent\"><img src=\"https://colab.research.google.com/assets/colab-badge.svg\" alt=\"Open In Colab\"/></a>"
      ]
    },
    {
      "cell_type": "code",
      "source": [
        "def play_game(game, strategies: dict , verbose=False):\n",
        "\n",
        "    state = game.initial\n",
        "    while not game.is_terminal(state):\n",
        "        player = state.to_move\n",
        "        move = strategies[player](game, state)\n",
        "        state = game.result(state, move)\n",
        "    if verbose:\n",
        "        print('Player', player , 'move:', move)\n",
        "        print(state)\n",
        "    return state"
      ],
      "metadata": {
        "id": "b346dX6g-ZNP"
      },
      "execution_count": 8,
      "outputs": []
    },
    {
      "cell_type": "code",
      "source": [
        "class Game:\n",
        "\n",
        "    def actions(self, state):\n",
        "    ##Return a collection of the allowable moves from this state .\"\"\"\n",
        "        raise NotImplementedError\n",
        "\n",
        "    def result(self, state , move):\n",
        "    #\"\"\"Return the state that results from making a move from a state .\"\"\"\n",
        "        raise NotImplementedError\n",
        "\n",
        "    def is_terminal(self, state):\n",
        "    #\"\"\"Return True i f this is a final state for the game.\"\"\"\n",
        "        return not self.actions(state)\n",
        "\n",
        "    def utility(self, state , player):\n",
        "    #\"\"\"Return the value of this final state to player.\"\"\"\n",
        "        raise NotImplementedError"
      ],
      "metadata": {
        "id": "X0cO7C4m_F96"
      },
      "execution_count": 11,
      "outputs": []
    }
  ]
}